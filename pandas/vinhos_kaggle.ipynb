{
 "cells": [
  {
   "cell_type": "code",
   "execution_count": 1,
   "id": "e0e486ff",
   "metadata": {},
   "outputs": [],
   "source": [
    "import pandas as pd\n",
    "import numpy as np"
   ]
  },
  {
   "cell_type": "code",
   "execution_count": 3,
   "id": "8caeb685",
   "metadata": {},
   "outputs": [],
   "source": [
    "git_utr = 'https://github.com/lju-lazarevic/wine/tree/master' # GitHub's repository \n",
    "file_url = 'https://raw.githubusercontent.com/lju-lazarevic/wine/refs/heads/master/data/winemag-data-130k-v2.csv'"
   ]
  },
  {
   "cell_type": "code",
   "execution_count": 4,
   "id": "b93b6d81",
   "metadata": {},
   "outputs": [
    {
     "data": {
      "text/html": [
       "<div>\n",
       "<style scoped>\n",
       "    .dataframe tbody tr th:only-of-type {\n",
       "        vertical-align: middle;\n",
       "    }\n",
       "\n",
       "    .dataframe tbody tr th {\n",
       "        vertical-align: top;\n",
       "    }\n",
       "\n",
       "    .dataframe thead th {\n",
       "        text-align: right;\n",
       "    }\n",
       "</style>\n",
       "<table border=\"1\" class=\"dataframe\">\n",
       "  <thead>\n",
       "    <tr style=\"text-align: right;\">\n",
       "      <th></th>\n",
       "      <th>id</th>\n",
       "      <th>country</th>\n",
       "      <th>description</th>\n",
       "      <th>designation</th>\n",
       "      <th>points</th>\n",
       "      <th>price</th>\n",
       "      <th>province</th>\n",
       "      <th>region_1</th>\n",
       "      <th>region_2</th>\n",
       "      <th>taster_name</th>\n",
       "      <th>taster_twitter_handle</th>\n",
       "      <th>title</th>\n",
       "      <th>variety</th>\n",
       "      <th>winery</th>\n",
       "      <th>dupe?</th>\n",
       "    </tr>\n",
       "  </thead>\n",
       "  <tbody>\n",
       "    <tr>\n",
       "      <th>0</th>\n",
       "      <td>94355</td>\n",
       "      <td>Austria</td>\n",
       "      <td>\"Chremisa,\" the ancient name of Krems, is comm...</td>\n",
       "      <td>Edition Chremisa Sandgrube 13</td>\n",
       "      <td>85</td>\n",
       "      <td>24.0</td>\n",
       "      <td>Niederösterreich</td>\n",
       "      <td>NaN</td>\n",
       "      <td>NaN</td>\n",
       "      <td>Roger Voss</td>\n",
       "      <td>@vossroger</td>\n",
       "      <td>Winzer Krems 2011 Edition Chremisa Sandgrube 1...</td>\n",
       "      <td>Grüner Veltliner</td>\n",
       "      <td>Winzer Krems</td>\n",
       "      <td>NaN</td>\n",
       "    </tr>\n",
       "    <tr>\n",
       "      <th>1</th>\n",
       "      <td>126883</td>\n",
       "      <td>US</td>\n",
       "      <td>$10 for this very drinkable Cab? That's crazy....</td>\n",
       "      <td>NaN</td>\n",
       "      <td>87</td>\n",
       "      <td>10.0</td>\n",
       "      <td>California</td>\n",
       "      <td>North Coast</td>\n",
       "      <td>North Coast</td>\n",
       "      <td>Virginie Boone</td>\n",
       "      <td>@vboone</td>\n",
       "      <td>Line 39 2009 Cabernet Sauvignon (North Coast)</td>\n",
       "      <td>Cabernet Sauvignon</td>\n",
       "      <td>Line 39</td>\n",
       "      <td>NaN</td>\n",
       "    </tr>\n",
       "    <tr>\n",
       "      <th>2</th>\n",
       "      <td>119493</td>\n",
       "      <td>US</td>\n",
       "      <td>$14 is a pretty good price for a Chardonnay th...</td>\n",
       "      <td>Whiplash</td>\n",
       "      <td>86</td>\n",
       "      <td>14.0</td>\n",
       "      <td>California</td>\n",
       "      <td>California</td>\n",
       "      <td>California Other</td>\n",
       "      <td>NaN</td>\n",
       "      <td>NaN</td>\n",
       "      <td>Jamieson Ranch 2011 Whiplash Chardonnay (Calif...</td>\n",
       "      <td>Chardonnay</td>\n",
       "      <td>Jamieson Ranch</td>\n",
       "      <td>NaN</td>\n",
       "    </tr>\n",
       "    <tr>\n",
       "      <th>3</th>\n",
       "      <td>126909</td>\n",
       "      <td>Spain</td>\n",
       "      <td>). Earth, cola and leather aromas are good, ho...</td>\n",
       "      <td>Finca Resalso</td>\n",
       "      <td>86</td>\n",
       "      <td>15.0</td>\n",
       "      <td>Northern Spain</td>\n",
       "      <td>Ribera del Duero</td>\n",
       "      <td>NaN</td>\n",
       "      <td>Michael Schachner</td>\n",
       "      <td>@wineschach</td>\n",
       "      <td>Emilio Moro 2009 Finca Resalso  (Ribera del Du...</td>\n",
       "      <td>Tinto Fino</td>\n",
       "      <td>Emilio Moro</td>\n",
       "      <td>NaN</td>\n",
       "    </tr>\n",
       "    <tr>\n",
       "      <th>4</th>\n",
       "      <td>119752</td>\n",
       "      <td>Spain</td>\n",
       "      <td>). Light and lemony on the nose. The palate ha...</td>\n",
       "      <td>NaN</td>\n",
       "      <td>87</td>\n",
       "      <td>17.0</td>\n",
       "      <td>Galicia</td>\n",
       "      <td>Rías Baixas</td>\n",
       "      <td>NaN</td>\n",
       "      <td>Michael Schachner</td>\n",
       "      <td>@wineschach</td>\n",
       "      <td>La Caña 2010 Albariño (Rías Baixas)</td>\n",
       "      <td>Albariño</td>\n",
       "      <td>La Caña</td>\n",
       "      <td>NaN</td>\n",
       "    </tr>\n",
       "  </tbody>\n",
       "</table>\n",
       "</div>"
      ],
      "text/plain": [
       "       id  country                                        description  \\\n",
       "0   94355  Austria  \"Chremisa,\" the ancient name of Krems, is comm...   \n",
       "1  126883       US  $10 for this very drinkable Cab? That's crazy....   \n",
       "2  119493       US  $14 is a pretty good price for a Chardonnay th...   \n",
       "3  126909    Spain  ). Earth, cola and leather aromas are good, ho...   \n",
       "4  119752    Spain  ). Light and lemony on the nose. The palate ha...   \n",
       "\n",
       "                     designation  points  price          province  \\\n",
       "0  Edition Chremisa Sandgrube 13      85   24.0  Niederösterreich   \n",
       "1                            NaN      87   10.0        California   \n",
       "2                       Whiplash      86   14.0        California   \n",
       "3                  Finca Resalso      86   15.0    Northern Spain   \n",
       "4                            NaN      87   17.0           Galicia   \n",
       "\n",
       "           region_1          region_2        taster_name  \\\n",
       "0               NaN               NaN         Roger Voss   \n",
       "1       North Coast       North Coast     Virginie Boone   \n",
       "2        California  California Other                NaN   \n",
       "3  Ribera del Duero               NaN  Michael Schachner   \n",
       "4       Rías Baixas               NaN  Michael Schachner   \n",
       "\n",
       "  taster_twitter_handle                                              title  \\\n",
       "0            @vossroger  Winzer Krems 2011 Edition Chremisa Sandgrube 1...   \n",
       "1               @vboone      Line 39 2009 Cabernet Sauvignon (North Coast)   \n",
       "2                   NaN  Jamieson Ranch 2011 Whiplash Chardonnay (Calif...   \n",
       "3           @wineschach  Emilio Moro 2009 Finca Resalso  (Ribera del Du...   \n",
       "4           @wineschach                La Caña 2010 Albariño (Rías Baixas)   \n",
       "\n",
       "              variety          winery  dupe?  \n",
       "0    Grüner Veltliner    Winzer Krems    NaN  \n",
       "1  Cabernet Sauvignon         Line 39    NaN  \n",
       "2          Chardonnay  Jamieson Ranch    NaN  \n",
       "3          Tinto Fino     Emilio Moro    NaN  \n",
       "4            Albariño         La Caña    NaN  "
      ]
     },
     "execution_count": 4,
     "metadata": {},
     "output_type": "execute_result"
    }
   ],
   "source": [
    "df = pd.read_csv(file_url)\n",
    "df.head()"
   ]
  },
  {
   "cell_type": "code",
   "execution_count": 5,
   "id": "b8c930b8",
   "metadata": {},
   "outputs": [
    {
     "name": "stdout",
     "output_type": "stream",
     "text": [
      "<class 'pandas.core.frame.DataFrame'>\n",
      "RangeIndex: 119988 entries, 0 to 119987\n",
      "Data columns (total 15 columns):\n",
      " #   Column                 Non-Null Count   Dtype  \n",
      "---  ------                 --------------   -----  \n",
      " 0   id                     119988 non-null  int64  \n",
      " 1   country                119929 non-null  object \n",
      " 2   description            119988 non-null  object \n",
      " 3   designation            85443 non-null   object \n",
      " 4   points                 119988 non-null  int64  \n",
      " 5   price                  111593 non-null  float64\n",
      " 6   province               119929 non-null  object \n",
      " 7   region_1               100428 non-null  object \n",
      " 8   region_2               46769 non-null   object \n",
      " 9   taster_name            95071 non-null   object \n",
      " 10  taster_twitter_handle  90542 non-null   object \n",
      " 11  title                  119988 non-null  object \n",
      " 12  variety                119987 non-null  object \n",
      " 13  winery                 119988 non-null  object \n",
      " 14  dupe?                  0 non-null       float64\n",
      "dtypes: float64(2), int64(2), object(11)\n",
      "memory usage: 13.7+ MB\n"
     ]
    }
   ],
   "source": [
    "df.info()"
   ]
  },
  {
   "cell_type": "code",
   "execution_count": 6,
   "id": "e21166c9",
   "metadata": {},
   "outputs": [
    {
     "data": {
      "text/html": [
       "<div>\n",
       "<style scoped>\n",
       "    .dataframe tbody tr th:only-of-type {\n",
       "        vertical-align: middle;\n",
       "    }\n",
       "\n",
       "    .dataframe tbody tr th {\n",
       "        vertical-align: top;\n",
       "    }\n",
       "\n",
       "    .dataframe thead th {\n",
       "        text-align: right;\n",
       "    }\n",
       "</style>\n",
       "<table border=\"1\" class=\"dataframe\">\n",
       "  <thead>\n",
       "    <tr style=\"text-align: right;\">\n",
       "      <th></th>\n",
       "      <th>country</th>\n",
       "      <th>count</th>\n",
       "    </tr>\n",
       "  </thead>\n",
       "  <tbody>\n",
       "    <tr>\n",
       "      <th>0</th>\n",
       "      <td>US</td>\n",
       "      <td>50457</td>\n",
       "    </tr>\n",
       "    <tr>\n",
       "      <th>1</th>\n",
       "      <td>France</td>\n",
       "      <td>20353</td>\n",
       "    </tr>\n",
       "    <tr>\n",
       "      <th>2</th>\n",
       "      <td>Italy</td>\n",
       "      <td>17940</td>\n",
       "    </tr>\n",
       "    <tr>\n",
       "      <th>3</th>\n",
       "      <td>Spain</td>\n",
       "      <td>6116</td>\n",
       "    </tr>\n",
       "    <tr>\n",
       "      <th>4</th>\n",
       "      <td>Portugal</td>\n",
       "      <td>5256</td>\n",
       "    </tr>\n",
       "    <tr>\n",
       "      <th>5</th>\n",
       "      <td>Chile</td>\n",
       "      <td>4184</td>\n",
       "    </tr>\n",
       "    <tr>\n",
       "      <th>6</th>\n",
       "      <td>Argentina</td>\n",
       "      <td>3544</td>\n",
       "    </tr>\n",
       "    <tr>\n",
       "      <th>7</th>\n",
       "      <td>Austria</td>\n",
       "      <td>3034</td>\n",
       "    </tr>\n",
       "    <tr>\n",
       "      <th>8</th>\n",
       "      <td>Australia</td>\n",
       "      <td>2197</td>\n",
       "    </tr>\n",
       "    <tr>\n",
       "      <th>9</th>\n",
       "      <td>Germany</td>\n",
       "      <td>1992</td>\n",
       "    </tr>\n",
       "    <tr>\n",
       "      <th>10</th>\n",
       "      <td>South Africa</td>\n",
       "      <td>1301</td>\n",
       "    </tr>\n",
       "    <tr>\n",
       "      <th>11</th>\n",
       "      <td>New Zealand</td>\n",
       "      <td>1278</td>\n",
       "    </tr>\n",
       "    <tr>\n",
       "      <th>12</th>\n",
       "      <td>Israel</td>\n",
       "      <td>466</td>\n",
       "    </tr>\n",
       "    <tr>\n",
       "      <th>13</th>\n",
       "      <td>Greece</td>\n",
       "      <td>432</td>\n",
       "    </tr>\n",
       "    <tr>\n",
       "      <th>14</th>\n",
       "      <td>Canada</td>\n",
       "      <td>226</td>\n",
       "    </tr>\n",
       "    <tr>\n",
       "      <th>15</th>\n",
       "      <td>Bulgaria</td>\n",
       "      <td>132</td>\n",
       "    </tr>\n",
       "    <tr>\n",
       "      <th>16</th>\n",
       "      <td>Hungary</td>\n",
       "      <td>129</td>\n",
       "    </tr>\n",
       "    <tr>\n",
       "      <th>17</th>\n",
       "      <td>Romania</td>\n",
       "      <td>102</td>\n",
       "    </tr>\n",
       "    <tr>\n",
       "      <th>18</th>\n",
       "      <td>Uruguay</td>\n",
       "      <td>98</td>\n",
       "    </tr>\n",
       "    <tr>\n",
       "      <th>19</th>\n",
       "      <td>Turkey</td>\n",
       "      <td>81</td>\n",
       "    </tr>\n",
       "    <tr>\n",
       "      <th>20</th>\n",
       "      <td>Slovenia</td>\n",
       "      <td>77</td>\n",
       "    </tr>\n",
       "    <tr>\n",
       "      <th>21</th>\n",
       "      <td>Georgia</td>\n",
       "      <td>76</td>\n",
       "    </tr>\n",
       "    <tr>\n",
       "      <th>22</th>\n",
       "      <td>Croatia</td>\n",
       "      <td>70</td>\n",
       "    </tr>\n",
       "    <tr>\n",
       "      <th>23</th>\n",
       "      <td>Mexico</td>\n",
       "      <td>68</td>\n",
       "    </tr>\n",
       "    <tr>\n",
       "      <th>24</th>\n",
       "      <td>England</td>\n",
       "      <td>63</td>\n",
       "    </tr>\n",
       "    <tr>\n",
       "      <th>25</th>\n",
       "      <td>Moldova</td>\n",
       "      <td>56</td>\n",
       "    </tr>\n",
       "    <tr>\n",
       "      <th>26</th>\n",
       "      <td>Brazil</td>\n",
       "      <td>49</td>\n",
       "    </tr>\n",
       "    <tr>\n",
       "      <th>27</th>\n",
       "      <td>Lebanon</td>\n",
       "      <td>32</td>\n",
       "    </tr>\n",
       "    <tr>\n",
       "      <th>28</th>\n",
       "      <td>Morocco</td>\n",
       "      <td>24</td>\n",
       "    </tr>\n",
       "    <tr>\n",
       "      <th>29</th>\n",
       "      <td>Peru</td>\n",
       "      <td>16</td>\n",
       "    </tr>\n",
       "    <tr>\n",
       "      <th>30</th>\n",
       "      <td>Ukraine</td>\n",
       "      <td>14</td>\n",
       "    </tr>\n",
       "    <tr>\n",
       "      <th>31</th>\n",
       "      <td>Macedonia</td>\n",
       "      <td>11</td>\n",
       "    </tr>\n",
       "    <tr>\n",
       "      <th>32</th>\n",
       "      <td>Czech Republic</td>\n",
       "      <td>11</td>\n",
       "    </tr>\n",
       "    <tr>\n",
       "      <th>33</th>\n",
       "      <td>Cyprus</td>\n",
       "      <td>10</td>\n",
       "    </tr>\n",
       "    <tr>\n",
       "      <th>34</th>\n",
       "      <td>Serbia</td>\n",
       "      <td>8</td>\n",
       "    </tr>\n",
       "    <tr>\n",
       "      <th>35</th>\n",
       "      <td>India</td>\n",
       "      <td>8</td>\n",
       "    </tr>\n",
       "    <tr>\n",
       "      <th>36</th>\n",
       "      <td>Switzerland</td>\n",
       "      <td>6</td>\n",
       "    </tr>\n",
       "    <tr>\n",
       "      <th>37</th>\n",
       "      <td>Luxembourg</td>\n",
       "      <td>5</td>\n",
       "    </tr>\n",
       "    <tr>\n",
       "      <th>38</th>\n",
       "      <td>Bosnia and Herzegovina</td>\n",
       "      <td>2</td>\n",
       "    </tr>\n",
       "    <tr>\n",
       "      <th>39</th>\n",
       "      <td>Armenia</td>\n",
       "      <td>2</td>\n",
       "    </tr>\n",
       "    <tr>\n",
       "      <th>40</th>\n",
       "      <td>Slovakia</td>\n",
       "      <td>1</td>\n",
       "    </tr>\n",
       "    <tr>\n",
       "      <th>41</th>\n",
       "      <td>Egypt</td>\n",
       "      <td>1</td>\n",
       "    </tr>\n",
       "    <tr>\n",
       "      <th>42</th>\n",
       "      <td>China</td>\n",
       "      <td>1</td>\n",
       "    </tr>\n",
       "  </tbody>\n",
       "</table>\n",
       "</div>"
      ],
      "text/plain": [
       "                   country  count\n",
       "0                       US  50457\n",
       "1                   France  20353\n",
       "2                    Italy  17940\n",
       "3                    Spain   6116\n",
       "4                 Portugal   5256\n",
       "5                    Chile   4184\n",
       "6                Argentina   3544\n",
       "7                  Austria   3034\n",
       "8                Australia   2197\n",
       "9                  Germany   1992\n",
       "10            South Africa   1301\n",
       "11             New Zealand   1278\n",
       "12                  Israel    466\n",
       "13                  Greece    432\n",
       "14                  Canada    226\n",
       "15                Bulgaria    132\n",
       "16                 Hungary    129\n",
       "17                 Romania    102\n",
       "18                 Uruguay     98\n",
       "19                  Turkey     81\n",
       "20                Slovenia     77\n",
       "21                 Georgia     76\n",
       "22                 Croatia     70\n",
       "23                  Mexico     68\n",
       "24                 England     63\n",
       "25                 Moldova     56\n",
       "26                  Brazil     49\n",
       "27                 Lebanon     32\n",
       "28                 Morocco     24\n",
       "29                    Peru     16\n",
       "30                 Ukraine     14\n",
       "31               Macedonia     11\n",
       "32          Czech Republic     11\n",
       "33                  Cyprus     10\n",
       "34                  Serbia      8\n",
       "35                   India      8\n",
       "36             Switzerland      6\n",
       "37              Luxembourg      5\n",
       "38  Bosnia and Herzegovina      2\n",
       "39                 Armenia      2\n",
       "40                Slovakia      1\n",
       "41                   Egypt      1\n",
       "42                   China      1"
      ]
     },
     "execution_count": 6,
     "metadata": {},
     "output_type": "execute_result"
    }
   ],
   "source": [
    "# To know all countrys on this df\n",
    "\n",
    "df.country.value_counts().reset_index()"
   ]
  },
  {
   "cell_type": "code",
   "execution_count": 7,
   "id": "3e39452d",
   "metadata": {},
   "outputs": [
    {
     "data": {
      "text/html": [
       "<div>\n",
       "<style scoped>\n",
       "    .dataframe tbody tr th:only-of-type {\n",
       "        vertical-align: middle;\n",
       "    }\n",
       "\n",
       "    .dataframe tbody tr th {\n",
       "        vertical-align: top;\n",
       "    }\n",
       "\n",
       "    .dataframe thead th {\n",
       "        text-align: right;\n",
       "    }\n",
       "</style>\n",
       "<table border=\"1\" class=\"dataframe\">\n",
       "  <thead>\n",
       "    <tr style=\"text-align: right;\">\n",
       "      <th></th>\n",
       "      <th>id</th>\n",
       "      <th>country</th>\n",
       "      <th>description</th>\n",
       "      <th>designation</th>\n",
       "      <th>points</th>\n",
       "      <th>price</th>\n",
       "      <th>province</th>\n",
       "      <th>region_1</th>\n",
       "      <th>region_2</th>\n",
       "      <th>taster_name</th>\n",
       "      <th>taster_twitter_handle</th>\n",
       "      <th>title</th>\n",
       "      <th>variety</th>\n",
       "      <th>winery</th>\n",
       "      <th>dupe?</th>\n",
       "    </tr>\n",
       "  </thead>\n",
       "  <tbody>\n",
       "  </tbody>\n",
       "</table>\n",
       "</div>"
      ],
      "text/plain": [
       "Empty DataFrame\n",
       "Columns: [id, country, description, designation, points, price, province, region_1, region_2, taster_name, taster_twitter_handle, title, variety, winery, dupe?]\n",
       "Index: []"
      ]
     },
     "execution_count": 7,
     "metadata": {},
     "output_type": "execute_result"
    }
   ],
   "source": [
    "df[(df['country'] == 'Canada') & (df['points'] >= 95)]"
   ]
  },
  {
   "cell_type": "code",
   "execution_count": 8,
   "id": "50c606bf",
   "metadata": {},
   "outputs": [
    {
     "data": {
      "text/plain": [
       "85168     94\n",
       "61254     94\n",
       "70376     94\n",
       "32995     93\n",
       "14629     93\n",
       "          ..\n",
       "103450    91\n",
       "107055    91\n",
       "103980    91\n",
       "115915    91\n",
       "118139    91\n",
       "Name: points, Length: 83, dtype: int64"
      ]
     },
     "execution_count": 8,
     "metadata": {},
     "output_type": "execute_result"
    }
   ],
   "source": [
    "df[(df['country'] == 'Canada') & (df['points'] > 90)]['points'].sort_values(ascending=False)"
   ]
  },
  {
   "cell_type": "code",
   "execution_count": 9,
   "id": "28efd49c",
   "metadata": {},
   "outputs": [],
   "source": [
    "def points_to_stars(df_row):\n",
    "    if (df_row['points'] >= 95) | (df_row['country'] == 'Canada'):\n",
    "          return 3\n",
    "    elif df_row['points'] >= 85:\n",
    "         return 2\n",
    "    else:\n",
    "         return 1"
   ]
  },
  {
   "cell_type": "code",
   "execution_count": 10,
   "id": "519927ea",
   "metadata": {},
   "outputs": [],
   "source": [
    "df['points'] = df.apply(points_to_stars, axis=1)"
   ]
  },
  {
   "cell_type": "code",
   "execution_count": 11,
   "id": "c8b409a0",
   "metadata": {},
   "outputs": [
    {
     "data": {
      "text/plain": [
       "points\n",
       "2    105291\n",
       "1     12079\n",
       "3      2618\n",
       "Name: count, dtype: int64"
      ]
     },
     "execution_count": 11,
     "metadata": {},
     "output_type": "execute_result"
    }
   ],
   "source": [
    "df['points'].value_counts()"
   ]
  },
  {
   "cell_type": "code",
   "execution_count": null,
   "id": "e27d8252",
   "metadata": {},
   "outputs": [],
   "source": []
  },
  {
   "cell_type": "code",
   "execution_count": 12,
   "id": "b4990b80",
   "metadata": {},
   "outputs": [],
   "source": [
    "brazil_wine = df.query('country == \"Brazil\"' ).drop(columns=['id', 'country','region_1', 'region_2', 'dupe?','taster_name', 'taster_twitter_handle']).reset_index(drop=True)"
   ]
  },
  {
   "cell_type": "code",
   "execution_count": 13,
   "id": "a17d30f0",
   "metadata": {},
   "outputs": [
    {
     "name": "stdout",
     "output_type": "stream",
     "text": [
      "<class 'pandas.core.frame.DataFrame'>\n",
      "RangeIndex: 49 entries, 0 to 48\n",
      "Data columns (total 8 columns):\n",
      " #   Column       Non-Null Count  Dtype  \n",
      "---  ------       --------------  -----  \n",
      " 0   description  49 non-null     object \n",
      " 1   designation  48 non-null     object \n",
      " 2   points       49 non-null     int64  \n",
      " 3   price        44 non-null     float64\n",
      " 4   province     49 non-null     object \n",
      " 5   title        49 non-null     object \n",
      " 6   variety      49 non-null     object \n",
      " 7   winery       49 non-null     object \n",
      "dtypes: float64(1), int64(1), object(6)\n",
      "memory usage: 3.2+ KB\n"
     ]
    }
   ],
   "source": [
    "brazil_wine.info()"
   ]
  },
  {
   "cell_type": "markdown",
   "id": "e1426584",
   "metadata": {},
   "source": [
    "1.¶\n",
    "Who are the most common wine reviewers in the dataset? Create a Series whose index is the taster_twitter_handle category from the dataset, and whose values count how many reviews each person wrote."
   ]
  },
  {
   "cell_type": "code",
   "execution_count": 14,
   "id": "329115b9",
   "metadata": {},
   "outputs": [
    {
     "data": {
      "text/plain": [
       "taster_twitter_handle\n",
       "@vossroger          23560\n",
       "@wineschach         14046\n",
       "@kerinokeefe         9697\n",
       "@paulgwine           8868\n",
       "@vboone              8708\n",
       "@mattkettmann        5730\n",
       "@JoeCz               4766\n",
       "@wawinereport        4461\n",
       "@gordone_cellars     3766\n",
       "@AnneInVino          3290\n",
       "@laurbuzz            1700\n",
       "@suskostrzewa        1023\n",
       "@worldwineguys        897\n",
       "@bkfiona               24\n",
       "@winewchristina         6\n",
       "Name: count, dtype: int64"
      ]
     },
     "execution_count": 14,
     "metadata": {},
     "output_type": "execute_result"
    }
   ],
   "source": [
    "df.taster_twitter_handle.value_counts()"
   ]
  },
  {
   "cell_type": "code",
   "execution_count": 15,
   "id": "45f41a5a",
   "metadata": {},
   "outputs": [
    {
     "data": {
      "text/plain": [
       "taster_twitter_handle\n",
       "@AnneInVino          3290\n",
       "@JoeCz               4766\n",
       "@bkfiona               24\n",
       "@gordone_cellars     3766\n",
       "@kerinokeefe         9697\n",
       "@laurbuzz            1700\n",
       "@mattkettmann        5730\n",
       "@paulgwine           8868\n",
       "@suskostrzewa        1023\n",
       "@vboone              8708\n",
       "@vossroger          23560\n",
       "@wawinereport        4461\n",
       "@wineschach         14046\n",
       "@winewchristina         6\n",
       "@worldwineguys        897\n",
       "dtype: int64"
      ]
     },
     "execution_count": 15,
     "metadata": {},
     "output_type": "execute_result"
    }
   ],
   "source": [
    "df.groupby('taster_twitter_handle').size()"
   ]
  },
  {
   "cell_type": "code",
   "execution_count": 16,
   "id": "ed1dd48e",
   "metadata": {},
   "outputs": [
    {
     "data": {
      "text/plain": [
       "taster_name\n",
       "Alexander Peartree        0\n",
       "Anna Lee C. Iijima        0\n",
       "Anne Krebiehl MW       3290\n",
       "Carrie Dykes              0\n",
       "Christina Pickard         6\n",
       "Fiona Adams              24\n",
       "Jeff Jenssen            436\n",
       "Jim Gordon             3766\n",
       "Joe Czerwinski         4766\n",
       "Kerin O’Keefe          9697\n",
       "Lauren Buzzeo          1700\n",
       "Matt Kettmann          5730\n",
       "Michael Schachner     14046\n",
       "Mike DeSimone           461\n",
       "Paul Gregutt           8868\n",
       "Roger Voss            23560\n",
       "Sean P. Sullivan       4461\n",
       "Susan Kostrzewa        1023\n",
       "Virginie Boone         8708\n",
       "Name: taster_twitter_handle, dtype: int64"
      ]
     },
     "execution_count": 16,
     "metadata": {},
     "output_type": "execute_result"
    }
   ],
   "source": [
    "df.groupby('taster_name').taster_twitter_handle.count()"
   ]
  },
  {
   "cell_type": "markdown",
   "id": "3f8a03c9",
   "metadata": {},
   "source": [
    "## 2.\n",
    "What is the best wine I can buy for a given amount of money? Create a `Series` whose index is wine prices and whose values is the maximum number of points a wine costing that much was given in a review. Sort the values by price, ascending (so that `4.0` dollars is at the top and `3300.0` dollars is at the bottom)."
   ]
  },
  {
   "cell_type": "code",
   "execution_count": 17,
   "id": "070fa0aa",
   "metadata": {},
   "outputs": [
    {
     "data": {
      "text/plain": [
       "price\n",
       "4.0       2\n",
       "5.0       2\n",
       "6.0       2\n",
       "7.0       2\n",
       "8.0       2\n",
       "         ..\n",
       "1900.0    3\n",
       "2000.0    3\n",
       "2013.0    2\n",
       "2500.0    3\n",
       "3300.0    2\n",
       "Name: points, Length: 390, dtype: int64"
      ]
     },
     "execution_count": 17,
     "metadata": {},
     "output_type": "execute_result"
    }
   ],
   "source": [
    "df.groupby('price')['points'].max().sort_index()"
   ]
  },
  {
   "cell_type": "code",
   "execution_count": 18,
   "id": "faa57335",
   "metadata": {},
   "outputs": [
    {
     "data": {
      "text/plain": [
       "points\n",
       "2    105291\n",
       "1     12079\n",
       "3      2618\n",
       "Name: count, dtype: int64"
      ]
     },
     "execution_count": 18,
     "metadata": {},
     "output_type": "execute_result"
    }
   ],
   "source": [
    "df['points'].value_counts()"
   ]
  },
  {
   "cell_type": "code",
   "execution_count": 19,
   "id": "7dd7a613",
   "metadata": {},
   "outputs": [
    {
     "data": {
      "text/html": [
       "<div>\n",
       "<style scoped>\n",
       "    .dataframe tbody tr th:only-of-type {\n",
       "        vertical-align: middle;\n",
       "    }\n",
       "\n",
       "    .dataframe tbody tr th {\n",
       "        vertical-align: top;\n",
       "    }\n",
       "\n",
       "    .dataframe thead th {\n",
       "        text-align: right;\n",
       "    }\n",
       "</style>\n",
       "<table border=\"1\" class=\"dataframe\">\n",
       "  <thead>\n",
       "    <tr style=\"text-align: right;\">\n",
       "      <th></th>\n",
       "      <th>description</th>\n",
       "      <th>designation</th>\n",
       "      <th>points</th>\n",
       "      <th>price</th>\n",
       "      <th>province</th>\n",
       "      <th>title</th>\n",
       "      <th>variety</th>\n",
       "      <th>winery</th>\n",
       "    </tr>\n",
       "  </thead>\n",
       "  <tbody>\n",
       "    <tr>\n",
       "      <th>0</th>\n",
       "      <td>A dark color and a soft nose with woodsy cherr...</td>\n",
       "      <td>Paradoxo</td>\n",
       "      <td>2</td>\n",
       "      <td>NaN</td>\n",
       "      <td>Campanha</td>\n",
       "      <td>Salton 2014 Paradoxo Pinot Noir (Campanha)</td>\n",
       "      <td>Pinot Noir</td>\n",
       "      <td>Salton</td>\n",
       "    </tr>\n",
       "    <tr>\n",
       "      <th>1</th>\n",
       "      <td>A dark salmon color and yeasty soapy aromas an...</td>\n",
       "      <td>Poética Rosé</td>\n",
       "      <td>2</td>\n",
       "      <td>NaN</td>\n",
       "      <td>Brazil</td>\n",
       "      <td>Salton NV Poética Rosé Sparkling (Brazil)</td>\n",
       "      <td>Sparkling Blend</td>\n",
       "      <td>Salton</td>\n",
       "    </tr>\n",
       "    <tr>\n",
       "      <th>2</th>\n",
       "      <td>A light color and tropical aromas of lime and ...</td>\n",
       "      <td>Intenso Brut</td>\n",
       "      <td>2</td>\n",
       "      <td>NaN</td>\n",
       "      <td>Serra Gaúcha</td>\n",
       "      <td>Salton NV Intenso Brut Sparkling (Serra Gaúcha)</td>\n",
       "      <td>Sparkling Blend</td>\n",
       "      <td>Salton</td>\n",
       "    </tr>\n",
       "    <tr>\n",
       "      <th>3</th>\n",
       "      <td>A nose based on candied fruit is pretty much t...</td>\n",
       "      <td>Macaw Smooth</td>\n",
       "      <td>1</td>\n",
       "      <td>15.0</td>\n",
       "      <td>Vale Trentino</td>\n",
       "      <td>Casa Perini 2016 Macaw Smooth Merlot (Vale Tre...</td>\n",
       "      <td>Merlot</td>\n",
       "      <td>Casa Perini</td>\n",
       "    </tr>\n",
       "    <tr>\n",
       "      <th>4</th>\n",
       "      <td>A sniff of this blend of Cabernet Sauvignon, M...</td>\n",
       "      <td>Quatro</td>\n",
       "      <td>2</td>\n",
       "      <td>60.0</td>\n",
       "      <td>Vale Trentino</td>\n",
       "      <td>Casa Perini 2012 Quatro Red (Vale Trentino)</td>\n",
       "      <td>Red Blend</td>\n",
       "      <td>Casa Perini</td>\n",
       "    </tr>\n",
       "  </tbody>\n",
       "</table>\n",
       "</div>"
      ],
      "text/plain": [
       "                                         description   designation  points  \\\n",
       "0  A dark color and a soft nose with woodsy cherr...      Paradoxo       2   \n",
       "1  A dark salmon color and yeasty soapy aromas an...  Poética Rosé       2   \n",
       "2  A light color and tropical aromas of lime and ...  Intenso Brut       2   \n",
       "3  A nose based on candied fruit is pretty much t...  Macaw Smooth       1   \n",
       "4  A sniff of this blend of Cabernet Sauvignon, M...        Quatro       2   \n",
       "\n",
       "   price       province                                              title  \\\n",
       "0    NaN       Campanha         Salton 2014 Paradoxo Pinot Noir (Campanha)   \n",
       "1    NaN         Brazil          Salton NV Poética Rosé Sparkling (Brazil)   \n",
       "2    NaN   Serra Gaúcha    Salton NV Intenso Brut Sparkling (Serra Gaúcha)   \n",
       "3   15.0  Vale Trentino  Casa Perini 2016 Macaw Smooth Merlot (Vale Tre...   \n",
       "4   60.0  Vale Trentino        Casa Perini 2012 Quatro Red (Vale Trentino)   \n",
       "\n",
       "           variety       winery  \n",
       "0       Pinot Noir       Salton  \n",
       "1  Sparkling Blend       Salton  \n",
       "2  Sparkling Blend       Salton  \n",
       "3           Merlot  Casa Perini  \n",
       "4        Red Blend  Casa Perini  "
      ]
     },
     "execution_count": 19,
     "metadata": {},
     "output_type": "execute_result"
    }
   ],
   "source": [
    "brazil_wine.head()"
   ]
  },
  {
   "cell_type": "code",
   "execution_count": 20,
   "id": "70b43c35",
   "metadata": {},
   "outputs": [
    {
     "data": {
      "text/plain": [
       "description    0\n",
       "designation    1\n",
       "points         0\n",
       "price          5\n",
       "province       0\n",
       "title          0\n",
       "variety        0\n",
       "winery         0\n",
       "dtype: int64"
      ]
     },
     "execution_count": 20,
     "metadata": {},
     "output_type": "execute_result"
    }
   ],
   "source": [
    "brazil_wine.isna().sum()"
   ]
  },
  {
   "cell_type": "code",
   "execution_count": 21,
   "id": "0c9649d7",
   "metadata": {},
   "outputs": [
    {
     "data": {
      "text/plain": [
       "description    49\n",
       "designation    38\n",
       "points          2\n",
       "price          18\n",
       "province        8\n",
       "title          49\n",
       "variety        14\n",
       "winery         11\n",
       "dtype: int64"
      ]
     },
     "execution_count": 21,
     "metadata": {},
     "output_type": "execute_result"
    }
   ],
   "source": [
    "brazil_wine.nunique()"
   ]
  },
  {
   "cell_type": "code",
   "execution_count": null,
   "id": "b5b6fb26",
   "metadata": {},
   "outputs": [],
   "source": [
    " "
   ]
  },
  {
   "cell_type": "code",
   "execution_count": null,
   "id": "00445eca",
   "metadata": {},
   "outputs": [],
   "source": []
  },
  {
   "cell_type": "code",
   "execution_count": null,
   "id": "a92cfff7",
   "metadata": {},
   "outputs": [],
   "source": []
  },
  {
   "cell_type": "code",
   "execution_count": null,
   "id": "602bdae0",
   "metadata": {},
   "outputs": [],
   "source": []
  },
  {
   "cell_type": "code",
   "execution_count": null,
   "id": "5d7abc51",
   "metadata": {},
   "outputs": [],
   "source": []
  }
 ],
 "metadata": {
  "kernelspec": {
   "display_name": ".venv",
   "language": "python",
   "name": "python3"
  },
  "language_info": {
   "codemirror_mode": {
    "name": "ipython",
    "version": 3
   },
   "file_extension": ".py",
   "mimetype": "text/x-python",
   "name": "python",
   "nbconvert_exporter": "python",
   "pygments_lexer": "ipython3",
   "version": "3.11.2"
  }
 },
 "nbformat": 4,
 "nbformat_minor": 5
}
