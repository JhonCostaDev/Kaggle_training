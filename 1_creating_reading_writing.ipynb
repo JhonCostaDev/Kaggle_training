{
 "cells": [
  {
   "cell_type": "markdown",
   "id": "fccc1fa1",
   "metadata": {},
   "source": [
    "# Creating, Reading and Writing\n",
    "\n",
    "In this micro-course, you'll learn about **Pandas**, the most popular Python library for data analysis.\n",
    "\n",
    "Along the way, you'll complete several hands-on exercises with real-world data."
   ]
  },
  {
   "cell_type": "markdown",
   "id": "0b3190d6",
   "metadata": {},
   "source": [
    "### Getting started\n",
    "\n",
    "To use pandas, you'll typically start with the following line of code."
   ]
  },
  {
   "cell_type": "code",
   "execution_count": 3,
   "id": "251ff7fc",
   "metadata": {},
   "outputs": [],
   "source": [
    "import pandas as pd"
   ]
  },
  {
   "cell_type": "markdown",
   "id": "7305776c",
   "metadata": {},
   "source": [
    "### Creating data\n",
    "\n",
    "There are two core objects in pandas: The __DataFrame__ and the **Series**\n",
    "\n",
    "\n",
    "#### Dataframe\n",
    "\n",
    "A DataFrame is a table. It contains an array of infividual entries, each of which has a certain value. Each entry corresponds to a row (or record) and a column.\n",
    "\n",
    "For example, consider the following simple Dataframe below:"
   ]
  },
  {
   "cell_type": "code",
   "execution_count": 3,
   "id": "bd18ad05",
   "metadata": {},
   "outputs": [
    {
     "data": {
      "text/html": [
       "<div>\n",
       "<style scoped>\n",
       "    .dataframe tbody tr th:only-of-type {\n",
       "        vertical-align: middle;\n",
       "    }\n",
       "\n",
       "    .dataframe tbody tr th {\n",
       "        vertical-align: top;\n",
       "    }\n",
       "\n",
       "    .dataframe thead th {\n",
       "        text-align: right;\n",
       "    }\n",
       "</style>\n",
       "<table border=\"1\" class=\"dataframe\">\n",
       "  <thead>\n",
       "    <tr style=\"text-align: right;\">\n",
       "      <th></th>\n",
       "      <th>Yes</th>\n",
       "      <th>No</th>\n",
       "    </tr>\n",
       "  </thead>\n",
       "  <tbody>\n",
       "    <tr>\n",
       "      <th>0</th>\n",
       "      <td>50</td>\n",
       "      <td>131</td>\n",
       "    </tr>\n",
       "    <tr>\n",
       "      <th>1</th>\n",
       "      <td>21</td>\n",
       "      <td>2</td>\n",
       "    </tr>\n",
       "  </tbody>\n",
       "</table>\n",
       "</div>"
      ],
      "text/plain": [
       "   Yes   No\n",
       "0   50  131\n",
       "1   21    2"
      ]
     },
     "execution_count": 3,
     "metadata": {},
     "output_type": "execute_result"
    }
   ],
   "source": [
    "pd.DataFrame({'Yes': [50, 21], 'No': [131, 2]})"
   ]
  },
  {
   "cell_type": "markdown",
   "id": "4bfedc5c",
   "metadata": {},
   "source": [
    "In this example, the \"0, No\" entry has the value of 131. The \"0, Yes\" entry has a value of 50, and so on.\n",
    "\n",
    "DataFrame entries are not limited to integers. For instance, here's a DataFrame whose values are strings:"
   ]
  },
  {
   "cell_type": "code",
   "execution_count": 4,
   "id": "f0a5d1b5",
   "metadata": {},
   "outputs": [
    {
     "data": {
      "text/html": [
       "<div>\n",
       "<style scoped>\n",
       "    .dataframe tbody tr th:only-of-type {\n",
       "        vertical-align: middle;\n",
       "    }\n",
       "\n",
       "    .dataframe tbody tr th {\n",
       "        vertical-align: top;\n",
       "    }\n",
       "\n",
       "    .dataframe thead th {\n",
       "        text-align: right;\n",
       "    }\n",
       "</style>\n",
       "<table border=\"1\" class=\"dataframe\">\n",
       "  <thead>\n",
       "    <tr style=\"text-align: right;\">\n",
       "      <th></th>\n",
       "      <th>Bob</th>\n",
       "      <th>Sue</th>\n",
       "    </tr>\n",
       "  </thead>\n",
       "  <tbody>\n",
       "    <tr>\n",
       "      <th>0</th>\n",
       "      <td>I liked it.</td>\n",
       "      <td>Pretty good.</td>\n",
       "    </tr>\n",
       "    <tr>\n",
       "      <th>1</th>\n",
       "      <td>It was awful.</td>\n",
       "      <td>Bland.</td>\n",
       "    </tr>\n",
       "  </tbody>\n",
       "</table>\n",
       "</div>"
      ],
      "text/plain": [
       "             Bob           Sue\n",
       "0    I liked it.  Pretty good.\n",
       "1  It was awful.        Bland."
      ]
     },
     "execution_count": 4,
     "metadata": {},
     "output_type": "execute_result"
    }
   ],
   "source": [
    "pd.DataFrame({'Bob': ['I liked it.', 'It was awful.'], 'Sue': ['Pretty good.', 'Bland.']})"
   ]
  },
  {
   "cell_type": "markdown",
   "id": "f3f6729c",
   "metadata": {},
   "source": [
    "We are using the pd.DataFrame() constructor to generate these DataFrame objects. The syntax for declaring a new one is a dictionary whose keys are the column names (Bob and Sue in this example), and whose values are a list of entries. This is the standard way of constructing a new DataFrame, and the one you are most likely to encounter.\n",
    "\n",
    "The dictionary-list constructor assigns values to the column labels, but just uses an ascending count from 0 (0, 1, 2, 3, ...) for the row labels. Sometimes this is OK, but oftentimes we will want to assign these labels ourselves.\n",
    "\n",
    "The list of row labels used in a DataFrame is known as an Index. We can assign values to it by using an index parameter in our constructor:"
   ]
  },
  {
   "cell_type": "code",
   "execution_count": 5,
   "id": "c20b9677",
   "metadata": {},
   "outputs": [
    {
     "data": {
      "text/html": [
       "<div>\n",
       "<style scoped>\n",
       "    .dataframe tbody tr th:only-of-type {\n",
       "        vertical-align: middle;\n",
       "    }\n",
       "\n",
       "    .dataframe tbody tr th {\n",
       "        vertical-align: top;\n",
       "    }\n",
       "\n",
       "    .dataframe thead th {\n",
       "        text-align: right;\n",
       "    }\n",
       "</style>\n",
       "<table border=\"1\" class=\"dataframe\">\n",
       "  <thead>\n",
       "    <tr style=\"text-align: right;\">\n",
       "      <th></th>\n",
       "      <th>Bob</th>\n",
       "      <th>Sue</th>\n",
       "    </tr>\n",
       "  </thead>\n",
       "  <tbody>\n",
       "    <tr>\n",
       "      <th>Product A</th>\n",
       "      <td>I liked it.</td>\n",
       "      <td>Pretty good.</td>\n",
       "    </tr>\n",
       "    <tr>\n",
       "      <th>Product B</th>\n",
       "      <td>It was awful.</td>\n",
       "      <td>Bland.</td>\n",
       "    </tr>\n",
       "  </tbody>\n",
       "</table>\n",
       "</div>"
      ],
      "text/plain": [
       "                     Bob           Sue\n",
       "Product A    I liked it.  Pretty good.\n",
       "Product B  It was awful.        Bland."
      ]
     },
     "execution_count": 5,
     "metadata": {},
     "output_type": "execute_result"
    }
   ],
   "source": [
    "pd.DataFrame({'Bob': ['I liked it.', 'It was awful.'], \n",
    "              'Sue': ['Pretty good.', 'Bland.']},\n",
    "             index=['Product A', 'Product B'])"
   ]
  },
  {
   "cell_type": "markdown",
   "id": "ece0b9be",
   "metadata": {},
   "source": [
    "### Series\n",
    "A Series, by contrast, is a sequence of data values. If a DataFrame is a table, a Series is a list. And in fact you can create one with nothing more than a list:"
   ]
  },
  {
   "cell_type": "code",
   "execution_count": 6,
   "id": "c2b8377e",
   "metadata": {},
   "outputs": [
    {
     "data": {
      "text/plain": [
       "0    1\n",
       "1    2\n",
       "2    3\n",
       "3    4\n",
       "4    5\n",
       "dtype: int64"
      ]
     },
     "execution_count": 6,
     "metadata": {},
     "output_type": "execute_result"
    }
   ],
   "source": [
    "pd.Series([1, 2, 3, 4, 5])"
   ]
  },
  {
   "cell_type": "markdown",
   "id": "efd8b2b5",
   "metadata": {},
   "source": [
    "A Series is, in essence, a single column of a DataFrame. So you can assign row labels to the Series the same way as before, using an index parameter. However, a Series does not have a column name, it only has one overall name:"
   ]
  },
  {
   "cell_type": "code",
   "execution_count": 7,
   "id": "b963c320",
   "metadata": {},
   "outputs": [
    {
     "data": {
      "text/plain": [
       "2015 Sales    30\n",
       "2016 Sales    35\n",
       "2017 Sales    40\n",
       "Name: Product A, dtype: int64"
      ]
     },
     "execution_count": 7,
     "metadata": {},
     "output_type": "execute_result"
    }
   ],
   "source": [
    "pd.Series([30, 35, 40], index=['2015 Sales', '2016 Sales', '2017 Sales'], name='Product A')"
   ]
  },
  {
   "cell_type": "markdown",
   "id": "31986770",
   "metadata": {},
   "source": [
    "The Series and the DataFrame are intimately related. It's helpful to think of a DataFrame as actually being just a bunch of Series \"glued together\". We'll see more of this in the next section of this tutorial.\n"
   ]
  },
  {
   "cell_type": "markdown",
   "id": "51f5cdda",
   "metadata": {},
   "source": [
    "## Reading data files\n",
    "\n",
    "Being able to create a DataFrame or Series by hand is handy. But, most of the time, we won't actually be creating our own data by hand. Instead, we'll be working with data that already exists.\n",
    "\n",
    "Data can be stored in any of a number of different forms and formats. By far the most basic of these is the humble CSV file. When you open a CSV file you get something that looks like this:\n",
    "\n",
    "\n",
    "    Product A,Product B,Product C,\n",
    "    30,21,9,\n",
    "    35,34,1,\n",
    "    41,11,11\n",
    "\n",
    "\n",
    "\n",
    "\n",
    "So a CSV file is a table of values separated by commas. Hence the name: \"Comma-Separated Values\", or CSV.\n",
    "\n",
    "Let's now set aside our toy datasets and see what a real dataset looks like when we read it into a DataFrame. We'll use the pd.read_csv() function to read the data into a DataFrame. This goes thusly:"
   ]
  },
  {
   "cell_type": "code",
   "execution_count": 8,
   "id": "71c313d2",
   "metadata": {},
   "outputs": [],
   "source": [
    "file_url = 'https://raw.githubusercontent.com/lju-lazarevic/wine/refs/heads/master/data/winemag-data-130k-v2.csv'\n",
    "\n",
    "wine_reviews = pd.read_csv(file_url)"
   ]
  },
  {
   "cell_type": "markdown",
   "id": "e2e7159f",
   "metadata": {},
   "source": [
    "We can use the `shape` attribute to check how large the resulting DataFrame is:"
   ]
  },
  {
   "cell_type": "code",
   "execution_count": 9,
   "id": "6205eca4",
   "metadata": {},
   "outputs": [
    {
     "data": {
      "text/plain": [
       "(119988, 15)"
      ]
     },
     "execution_count": 9,
     "metadata": {},
     "output_type": "execute_result"
    }
   ],
   "source": [
    "wine_reviews.shape"
   ]
  },
  {
   "cell_type": "markdown",
   "id": "315e3138",
   "metadata": {},
   "source": [
    "So our new DataFrame has 119,988 records split across 15 different columns. That's almost 2 million entries!\n",
    "\n",
    "We can examine the contents of the resultant DataFrame using the head() command, which grabs the first five rows:"
   ]
  },
  {
   "cell_type": "code",
   "execution_count": 10,
   "id": "360f2f59",
   "metadata": {},
   "outputs": [
    {
     "data": {
      "text/html": [
       "<div>\n",
       "<style scoped>\n",
       "    .dataframe tbody tr th:only-of-type {\n",
       "        vertical-align: middle;\n",
       "    }\n",
       "\n",
       "    .dataframe tbody tr th {\n",
       "        vertical-align: top;\n",
       "    }\n",
       "\n",
       "    .dataframe thead th {\n",
       "        text-align: right;\n",
       "    }\n",
       "</style>\n",
       "<table border=\"1\" class=\"dataframe\">\n",
       "  <thead>\n",
       "    <tr style=\"text-align: right;\">\n",
       "      <th></th>\n",
       "      <th>id</th>\n",
       "      <th>country</th>\n",
       "      <th>description</th>\n",
       "      <th>designation</th>\n",
       "      <th>points</th>\n",
       "      <th>price</th>\n",
       "      <th>province</th>\n",
       "      <th>region_1</th>\n",
       "      <th>region_2</th>\n",
       "      <th>taster_name</th>\n",
       "      <th>taster_twitter_handle</th>\n",
       "      <th>title</th>\n",
       "      <th>variety</th>\n",
       "      <th>winery</th>\n",
       "      <th>dupe?</th>\n",
       "    </tr>\n",
       "  </thead>\n",
       "  <tbody>\n",
       "    <tr>\n",
       "      <th>0</th>\n",
       "      <td>94355</td>\n",
       "      <td>Austria</td>\n",
       "      <td>\"Chremisa,\" the ancient name of Krems, is comm...</td>\n",
       "      <td>Edition Chremisa Sandgrube 13</td>\n",
       "      <td>85</td>\n",
       "      <td>24.0</td>\n",
       "      <td>Niederösterreich</td>\n",
       "      <td>NaN</td>\n",
       "      <td>NaN</td>\n",
       "      <td>Roger Voss</td>\n",
       "      <td>@vossroger</td>\n",
       "      <td>Winzer Krems 2011 Edition Chremisa Sandgrube 1...</td>\n",
       "      <td>Grüner Veltliner</td>\n",
       "      <td>Winzer Krems</td>\n",
       "      <td>NaN</td>\n",
       "    </tr>\n",
       "    <tr>\n",
       "      <th>1</th>\n",
       "      <td>126883</td>\n",
       "      <td>US</td>\n",
       "      <td>$10 for this very drinkable Cab? That's crazy....</td>\n",
       "      <td>NaN</td>\n",
       "      <td>87</td>\n",
       "      <td>10.0</td>\n",
       "      <td>California</td>\n",
       "      <td>North Coast</td>\n",
       "      <td>North Coast</td>\n",
       "      <td>Virginie Boone</td>\n",
       "      <td>@vboone</td>\n",
       "      <td>Line 39 2009 Cabernet Sauvignon (North Coast)</td>\n",
       "      <td>Cabernet Sauvignon</td>\n",
       "      <td>Line 39</td>\n",
       "      <td>NaN</td>\n",
       "    </tr>\n",
       "    <tr>\n",
       "      <th>2</th>\n",
       "      <td>119493</td>\n",
       "      <td>US</td>\n",
       "      <td>$14 is a pretty good price for a Chardonnay th...</td>\n",
       "      <td>Whiplash</td>\n",
       "      <td>86</td>\n",
       "      <td>14.0</td>\n",
       "      <td>California</td>\n",
       "      <td>California</td>\n",
       "      <td>California Other</td>\n",
       "      <td>NaN</td>\n",
       "      <td>NaN</td>\n",
       "      <td>Jamieson Ranch 2011 Whiplash Chardonnay (Calif...</td>\n",
       "      <td>Chardonnay</td>\n",
       "      <td>Jamieson Ranch</td>\n",
       "      <td>NaN</td>\n",
       "    </tr>\n",
       "    <tr>\n",
       "      <th>3</th>\n",
       "      <td>126909</td>\n",
       "      <td>Spain</td>\n",
       "      <td>). Earth, cola and leather aromas are good, ho...</td>\n",
       "      <td>Finca Resalso</td>\n",
       "      <td>86</td>\n",
       "      <td>15.0</td>\n",
       "      <td>Northern Spain</td>\n",
       "      <td>Ribera del Duero</td>\n",
       "      <td>NaN</td>\n",
       "      <td>Michael Schachner</td>\n",
       "      <td>@wineschach</td>\n",
       "      <td>Emilio Moro 2009 Finca Resalso  (Ribera del Du...</td>\n",
       "      <td>Tinto Fino</td>\n",
       "      <td>Emilio Moro</td>\n",
       "      <td>NaN</td>\n",
       "    </tr>\n",
       "    <tr>\n",
       "      <th>4</th>\n",
       "      <td>119752</td>\n",
       "      <td>Spain</td>\n",
       "      <td>). Light and lemony on the nose. The palate ha...</td>\n",
       "      <td>NaN</td>\n",
       "      <td>87</td>\n",
       "      <td>17.0</td>\n",
       "      <td>Galicia</td>\n",
       "      <td>Rías Baixas</td>\n",
       "      <td>NaN</td>\n",
       "      <td>Michael Schachner</td>\n",
       "      <td>@wineschach</td>\n",
       "      <td>La Caña 2010 Albariño (Rías Baixas)</td>\n",
       "      <td>Albariño</td>\n",
       "      <td>La Caña</td>\n",
       "      <td>NaN</td>\n",
       "    </tr>\n",
       "  </tbody>\n",
       "</table>\n",
       "</div>"
      ],
      "text/plain": [
       "       id  country                                        description  \\\n",
       "0   94355  Austria  \"Chremisa,\" the ancient name of Krems, is comm...   \n",
       "1  126883       US  $10 for this very drinkable Cab? That's crazy....   \n",
       "2  119493       US  $14 is a pretty good price for a Chardonnay th...   \n",
       "3  126909    Spain  ). Earth, cola and leather aromas are good, ho...   \n",
       "4  119752    Spain  ). Light and lemony on the nose. The palate ha...   \n",
       "\n",
       "                     designation  points  price          province  \\\n",
       "0  Edition Chremisa Sandgrube 13      85   24.0  Niederösterreich   \n",
       "1                            NaN      87   10.0        California   \n",
       "2                       Whiplash      86   14.0        California   \n",
       "3                  Finca Resalso      86   15.0    Northern Spain   \n",
       "4                            NaN      87   17.0           Galicia   \n",
       "\n",
       "           region_1          region_2        taster_name  \\\n",
       "0               NaN               NaN         Roger Voss   \n",
       "1       North Coast       North Coast     Virginie Boone   \n",
       "2        California  California Other                NaN   \n",
       "3  Ribera del Duero               NaN  Michael Schachner   \n",
       "4       Rías Baixas               NaN  Michael Schachner   \n",
       "\n",
       "  taster_twitter_handle                                              title  \\\n",
       "0            @vossroger  Winzer Krems 2011 Edition Chremisa Sandgrube 1...   \n",
       "1               @vboone      Line 39 2009 Cabernet Sauvignon (North Coast)   \n",
       "2                   NaN  Jamieson Ranch 2011 Whiplash Chardonnay (Calif...   \n",
       "3           @wineschach  Emilio Moro 2009 Finca Resalso  (Ribera del Du...   \n",
       "4           @wineschach                La Caña 2010 Albariño (Rías Baixas)   \n",
       "\n",
       "              variety          winery  dupe?  \n",
       "0    Grüner Veltliner    Winzer Krems    NaN  \n",
       "1  Cabernet Sauvignon         Line 39    NaN  \n",
       "2          Chardonnay  Jamieson Ranch    NaN  \n",
       "3          Tinto Fino     Emilio Moro    NaN  \n",
       "4            Albariño         La Caña    NaN  "
      ]
     },
     "execution_count": 10,
     "metadata": {},
     "output_type": "execute_result"
    }
   ],
   "source": [
    "wine_reviews.head()"
   ]
  },
  {
   "cell_type": "markdown",
   "id": "e6f3f669",
   "metadata": {},
   "source": [
    "The pd.read_csv() function is well-endowed, with over 30 optional parameters you can specify. For example, you can see in this dataset that the CSV file has a built-in index, which pandas did not pick up on automatically. To make pandas use that column for the index (instead of creating a new one from scratch), we can specify an ***index_col***."
   ]
  },
  {
   "cell_type": "code",
   "execution_count": 15,
   "id": "57deabcc",
   "metadata": {},
   "outputs": [],
   "source": [
    "wine_reviews = pd.read_csv(file_url, index_col=0)"
   ]
  },
  {
   "cell_type": "code",
   "execution_count": 16,
   "id": "bebfe92c",
   "metadata": {},
   "outputs": [
    {
     "data": {
      "text/html": [
       "<div>\n",
       "<style scoped>\n",
       "    .dataframe tbody tr th:only-of-type {\n",
       "        vertical-align: middle;\n",
       "    }\n",
       "\n",
       "    .dataframe tbody tr th {\n",
       "        vertical-align: top;\n",
       "    }\n",
       "\n",
       "    .dataframe thead th {\n",
       "        text-align: right;\n",
       "    }\n",
       "</style>\n",
       "<table border=\"1\" class=\"dataframe\">\n",
       "  <thead>\n",
       "    <tr style=\"text-align: right;\">\n",
       "      <th></th>\n",
       "      <th>country</th>\n",
       "      <th>description</th>\n",
       "      <th>designation</th>\n",
       "      <th>points</th>\n",
       "      <th>price</th>\n",
       "      <th>province</th>\n",
       "      <th>region_1</th>\n",
       "      <th>region_2</th>\n",
       "      <th>taster_name</th>\n",
       "      <th>taster_twitter_handle</th>\n",
       "      <th>title</th>\n",
       "      <th>variety</th>\n",
       "      <th>winery</th>\n",
       "      <th>dupe?</th>\n",
       "    </tr>\n",
       "    <tr>\n",
       "      <th>id</th>\n",
       "      <th></th>\n",
       "      <th></th>\n",
       "      <th></th>\n",
       "      <th></th>\n",
       "      <th></th>\n",
       "      <th></th>\n",
       "      <th></th>\n",
       "      <th></th>\n",
       "      <th></th>\n",
       "      <th></th>\n",
       "      <th></th>\n",
       "      <th></th>\n",
       "      <th></th>\n",
       "      <th></th>\n",
       "    </tr>\n",
       "  </thead>\n",
       "  <tbody>\n",
       "    <tr>\n",
       "      <th>94355</th>\n",
       "      <td>Austria</td>\n",
       "      <td>\"Chremisa,\" the ancient name of Krems, is comm...</td>\n",
       "      <td>Edition Chremisa Sandgrube 13</td>\n",
       "      <td>85</td>\n",
       "      <td>24.0</td>\n",
       "      <td>Niederösterreich</td>\n",
       "      <td>NaN</td>\n",
       "      <td>NaN</td>\n",
       "      <td>Roger Voss</td>\n",
       "      <td>@vossroger</td>\n",
       "      <td>Winzer Krems 2011 Edition Chremisa Sandgrube 1...</td>\n",
       "      <td>Grüner Veltliner</td>\n",
       "      <td>Winzer Krems</td>\n",
       "      <td>NaN</td>\n",
       "    </tr>\n",
       "    <tr>\n",
       "      <th>126883</th>\n",
       "      <td>US</td>\n",
       "      <td>$10 for this very drinkable Cab? That's crazy....</td>\n",
       "      <td>NaN</td>\n",
       "      <td>87</td>\n",
       "      <td>10.0</td>\n",
       "      <td>California</td>\n",
       "      <td>North Coast</td>\n",
       "      <td>North Coast</td>\n",
       "      <td>Virginie Boone</td>\n",
       "      <td>@vboone</td>\n",
       "      <td>Line 39 2009 Cabernet Sauvignon (North Coast)</td>\n",
       "      <td>Cabernet Sauvignon</td>\n",
       "      <td>Line 39</td>\n",
       "      <td>NaN</td>\n",
       "    </tr>\n",
       "    <tr>\n",
       "      <th>119493</th>\n",
       "      <td>US</td>\n",
       "      <td>$14 is a pretty good price for a Chardonnay th...</td>\n",
       "      <td>Whiplash</td>\n",
       "      <td>86</td>\n",
       "      <td>14.0</td>\n",
       "      <td>California</td>\n",
       "      <td>California</td>\n",
       "      <td>California Other</td>\n",
       "      <td>NaN</td>\n",
       "      <td>NaN</td>\n",
       "      <td>Jamieson Ranch 2011 Whiplash Chardonnay (Calif...</td>\n",
       "      <td>Chardonnay</td>\n",
       "      <td>Jamieson Ranch</td>\n",
       "      <td>NaN</td>\n",
       "    </tr>\n",
       "    <tr>\n",
       "      <th>126909</th>\n",
       "      <td>Spain</td>\n",
       "      <td>). Earth, cola and leather aromas are good, ho...</td>\n",
       "      <td>Finca Resalso</td>\n",
       "      <td>86</td>\n",
       "      <td>15.0</td>\n",
       "      <td>Northern Spain</td>\n",
       "      <td>Ribera del Duero</td>\n",
       "      <td>NaN</td>\n",
       "      <td>Michael Schachner</td>\n",
       "      <td>@wineschach</td>\n",
       "      <td>Emilio Moro 2009 Finca Resalso  (Ribera del Du...</td>\n",
       "      <td>Tinto Fino</td>\n",
       "      <td>Emilio Moro</td>\n",
       "      <td>NaN</td>\n",
       "    </tr>\n",
       "    <tr>\n",
       "      <th>119752</th>\n",
       "      <td>Spain</td>\n",
       "      <td>). Light and lemony on the nose. The palate ha...</td>\n",
       "      <td>NaN</td>\n",
       "      <td>87</td>\n",
       "      <td>17.0</td>\n",
       "      <td>Galicia</td>\n",
       "      <td>Rías Baixas</td>\n",
       "      <td>NaN</td>\n",
       "      <td>Michael Schachner</td>\n",
       "      <td>@wineschach</td>\n",
       "      <td>La Caña 2010 Albariño (Rías Baixas)</td>\n",
       "      <td>Albariño</td>\n",
       "      <td>La Caña</td>\n",
       "      <td>NaN</td>\n",
       "    </tr>\n",
       "  </tbody>\n",
       "</table>\n",
       "</div>"
      ],
      "text/plain": [
       "        country                                        description  \\\n",
       "id                                                                   \n",
       "94355   Austria  \"Chremisa,\" the ancient name of Krems, is comm...   \n",
       "126883       US  $10 for this very drinkable Cab? That's crazy....   \n",
       "119493       US  $14 is a pretty good price for a Chardonnay th...   \n",
       "126909    Spain  ). Earth, cola and leather aromas are good, ho...   \n",
       "119752    Spain  ). Light and lemony on the nose. The palate ha...   \n",
       "\n",
       "                          designation  points  price          province  \\\n",
       "id                                                                       \n",
       "94355   Edition Chremisa Sandgrube 13      85   24.0  Niederösterreich   \n",
       "126883                            NaN      87   10.0        California   \n",
       "119493                       Whiplash      86   14.0        California   \n",
       "126909                  Finca Resalso      86   15.0    Northern Spain   \n",
       "119752                            NaN      87   17.0           Galicia   \n",
       "\n",
       "                region_1          region_2        taster_name  \\\n",
       "id                                                              \n",
       "94355                NaN               NaN         Roger Voss   \n",
       "126883       North Coast       North Coast     Virginie Boone   \n",
       "119493        California  California Other                NaN   \n",
       "126909  Ribera del Duero               NaN  Michael Schachner   \n",
       "119752       Rías Baixas               NaN  Michael Schachner   \n",
       "\n",
       "       taster_twitter_handle  \\\n",
       "id                             \n",
       "94355             @vossroger   \n",
       "126883               @vboone   \n",
       "119493                   NaN   \n",
       "126909           @wineschach   \n",
       "119752           @wineschach   \n",
       "\n",
       "                                                    title             variety  \\\n",
       "id                                                                              \n",
       "94355   Winzer Krems 2011 Edition Chremisa Sandgrube 1...    Grüner Veltliner   \n",
       "126883      Line 39 2009 Cabernet Sauvignon (North Coast)  Cabernet Sauvignon   \n",
       "119493  Jamieson Ranch 2011 Whiplash Chardonnay (Calif...          Chardonnay   \n",
       "126909  Emilio Moro 2009 Finca Resalso  (Ribera del Du...          Tinto Fino   \n",
       "119752                La Caña 2010 Albariño (Rías Baixas)            Albariño   \n",
       "\n",
       "                winery  dupe?  \n",
       "id                             \n",
       "94355     Winzer Krems    NaN  \n",
       "126883         Line 39    NaN  \n",
       "119493  Jamieson Ranch    NaN  \n",
       "126909     Emilio Moro    NaN  \n",
       "119752         La Caña    NaN  "
      ]
     },
     "execution_count": 16,
     "metadata": {},
     "output_type": "execute_result"
    }
   ],
   "source": [
    "wine_reviews.head()"
   ]
  },
  {
   "cell_type": "markdown",
   "id": "df3cb72e",
   "metadata": {},
   "source": [
    "### Exercise\n"
   ]
  },
  {
   "attachments": {
    "image.png": {
     "image/png": "[encoded data removed]"
    }
   },
   "cell_type": "markdown",
   "id": "603b5c79",
   "metadata": {},
   "source": [
    "1. In the cell below, create a DataFrame `fruits` that looks like this:\n",
    "\n",
    "\n",
    "![image.png](attachment:image.png)"
   ]
  },
  {
   "cell_type": "code",
   "execution_count": 21,
   "id": "be80db6b",
   "metadata": {},
   "outputs": [
    {
     "data": {
      "text/html": [
       "<div>\n",
       "<style scoped>\n",
       "    .dataframe tbody tr th:only-of-type {\n",
       "        vertical-align: middle;\n",
       "    }\n",
       "\n",
       "    .dataframe tbody tr th {\n",
       "        vertical-align: top;\n",
       "    }\n",
       "\n",
       "    .dataframe thead th {\n",
       "        text-align: right;\n",
       "    }\n",
       "</style>\n",
       "<table border=\"1\" class=\"dataframe\">\n",
       "  <thead>\n",
       "    <tr style=\"text-align: right;\">\n",
       "      <th></th>\n",
       "      <th>Apples</th>\n",
       "      <th>Bananas</th>\n",
       "    </tr>\n",
       "  </thead>\n",
       "  <tbody>\n",
       "    <tr>\n",
       "      <th>0</th>\n",
       "      <td>30</td>\n",
       "      <td>21</td>\n",
       "    </tr>\n",
       "  </tbody>\n",
       "</table>\n",
       "</div>"
      ],
      "text/plain": [
       "   Apples  Bananas\n",
       "0      30       21"
      ]
     },
     "execution_count": 21,
     "metadata": {},
     "output_type": "execute_result"
    }
   ],
   "source": [
    "fruits = {\n",
    "    'Apples': 30,\n",
    "    'Bananas': 21\n",
    "}\n",
    "\n",
    "df_fruits = pd.DataFrame(fruits, index=[0])\n",
    "df_fruits"
   ]
  },
  {
   "attachments": {
    "image.png": {
     "image/png": "[encoded data removed]"
    }
   },
   "cell_type": "markdown",
   "id": "90377f5f",
   "metadata": {},
   "source": [
    "2. Create a dataframe `fruit_sales` that matches the diagram below:\n",
    "\n",
    "![image.png](attachment:image.png)"
   ]
  },
  {
   "cell_type": "code",
   "execution_count": 22,
   "id": "53d63e6c",
   "metadata": {},
   "outputs": [
    {
     "data": {
      "text/html": [
       "<div>\n",
       "<style scoped>\n",
       "    .dataframe tbody tr th:only-of-type {\n",
       "        vertical-align: middle;\n",
       "    }\n",
       "\n",
       "    .dataframe tbody tr th {\n",
       "        vertical-align: top;\n",
       "    }\n",
       "\n",
       "    .dataframe thead th {\n",
       "        text-align: right;\n",
       "    }\n",
       "</style>\n",
       "<table border=\"1\" class=\"dataframe\">\n",
       "  <thead>\n",
       "    <tr style=\"text-align: right;\">\n",
       "      <th></th>\n",
       "      <th>Apples</th>\n",
       "      <th>Bananas</th>\n",
       "    </tr>\n",
       "  </thead>\n",
       "  <tbody>\n",
       "    <tr>\n",
       "      <th>2017 Sales</th>\n",
       "      <td>35</td>\n",
       "      <td>21</td>\n",
       "    </tr>\n",
       "    <tr>\n",
       "      <th>2018 Sales</th>\n",
       "      <td>41</td>\n",
       "      <td>34</td>\n",
       "    </tr>\n",
       "  </tbody>\n",
       "</table>\n",
       "</div>"
      ],
      "text/plain": [
       "            Apples  Bananas\n",
       "2017 Sales      35       21\n",
       "2018 Sales      41       34"
      ]
     },
     "execution_count": 22,
     "metadata": {},
     "output_type": "execute_result"
    }
   ],
   "source": [
    "fruits = {\n",
    "    'Apples': [35, 41],\n",
    "    'Bananas': [21, 34]\n",
    "}\n",
    "\n",
    "period = ['2017 Sales', '2018 Sales']\n",
    "\n",
    "fruit_sales = pd.DataFrame(fruits, index=period)\n",
    "fruit_sales "
   ]
  },
  {
   "attachments": {
    "image.png": {
     "image/png": "[encoded data removed]"
    }
   },
   "cell_type": "markdown",
   "id": "d9b3123a",
   "metadata": {},
   "source": [
    "3. Create a variable `ingredients` with a Series that looks like:\n",
    "\n",
    "![image.png](attachment:image.png)"
   ]
  },
  {
   "cell_type": "code",
   "execution_count": 23,
   "id": "841f3e2b",
   "metadata": {},
   "outputs": [
    {
     "data": {
      "text/plain": [
       "Flour     4 cups\n",
       "Milk       1 cup\n",
       "Eggs     2 large\n",
       "Spam       1 can\n",
       "dtype: object"
      ]
     },
     "execution_count": 23,
     "metadata": {},
     "output_type": "execute_result"
    }
   ],
   "source": [
    "ingredients = ['Flour', 'Milk', 'Eggs', 'Spam']\n",
    "quantity = ['4 cups', '1 cup', '2 large', '1 can']\n",
    "\n",
    "pd.Series(quantity,index=ingredients)"
   ]
  },
  {
   "cell_type": "code",
   "execution_count": 24,
   "id": "2120159d",
   "metadata": {},
   "outputs": [
    {
     "data": {
      "text/html": [
       "<div>\n",
       "<style scoped>\n",
       "    .dataframe tbody tr th:only-of-type {\n",
       "        vertical-align: middle;\n",
       "    }\n",
       "\n",
       "    .dataframe tbody tr th {\n",
       "        vertical-align: top;\n",
       "    }\n",
       "\n",
       "    .dataframe thead th {\n",
       "        text-align: right;\n",
       "    }\n",
       "</style>\n",
       "<table border=\"1\" class=\"dataframe\">\n",
       "  <thead>\n",
       "    <tr style=\"text-align: right;\">\n",
       "      <th></th>\n",
       "      <th>Cows</th>\n",
       "      <th>Goats</th>\n",
       "    </tr>\n",
       "  </thead>\n",
       "  <tbody>\n",
       "    <tr>\n",
       "      <th>Year 1</th>\n",
       "      <td>12</td>\n",
       "      <td>22</td>\n",
       "    </tr>\n",
       "    <tr>\n",
       "      <th>Year 2</th>\n",
       "      <td>20</td>\n",
       "      <td>19</td>\n",
       "    </tr>\n",
       "  </tbody>\n",
       "</table>\n",
       "</div>"
      ],
      "text/plain": [
       "        Cows  Goats\n",
       "Year 1    12     22\n",
       "Year 2    20     19"
      ]
     },
     "execution_count": 24,
     "metadata": {},
     "output_type": "execute_result"
    }
   ],
   "source": [
    "animals = pd.DataFrame({'Cows': [12, 20], 'Goats': [22, 19]}, index=['Year 1', 'Year 2'])\n",
    "animals"
   ]
  },
  {
   "cell_type": "code",
   "execution_count": null,
   "id": "ddb67b1d",
   "metadata": {},
   "outputs": [],
   "source": []
  }
 ],
 "metadata": {
  "kernelspec": {
   "display_name": ".venv",
   "language": "python",
   "name": "python3"
  },
  "language_info": {
   "codemirror_mode": {
    "name": "ipython",
    "version": 3
   },
   "file_extension": ".py",
   "mimetype": "text/x-python",
   "name": "python",
   "nbconvert_exporter": "python",
   "pygments_lexer": "ipython3",
   "version": "3.11.2"
  }
 },
 "nbformat": 4,
 "nbformat_minor": 5
}
