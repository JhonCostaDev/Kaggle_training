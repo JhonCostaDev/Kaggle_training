{
 "cells": [
  {
   "cell_type": "markdown",
   "id": "8bca9866",
   "metadata": {},
   "source": [
    "# Data Types and Missing Values\n",
    "Deal with the most common progress-bloking problems"
   ]
  },
  {
   "cell_type": "code",
   "execution_count": 1,
   "id": "9084983d",
   "metadata": {},
   "outputs": [],
   "source": [
    "import pandas as pd\n",
    "import numpy as np\n",
    "\n",
    "wine_data = 'https://raw.githubusercontent.com/lju-lazarevic/wine/refs/heads/master/data/winemag-data-130k-v2.csv'\n",
    "reviews = pd.read_csv(wine_data)"
   ]
  },
  {
   "cell_type": "markdown",
   "id": "59b70f64",
   "metadata": {},
   "source": [
    "### Introduction\n",
    "\n",
    "In this tutorial, you'll learn how to investigate data types within a SataFrame of Series. You'll also learn how to find and replace entries."
   ]
  },
  {
   "cell_type": "markdown",
   "id": "bb4c88ed",
   "metadata": {},
   "source": [
    "### Dtypes\n",
    "\n",
    "The data type for a column in a DataFrame or a Series isn known as the `dtype`.\n",
    "\n",
    "You can use the `dtype` property to grab the type of a specific column. For instance, we can get the *dtype* of the `price` column in the `reviews` DataFrame: "
   ]
  },
  {
   "cell_type": "code",
   "execution_count": 4,
   "id": "26e03e2d",
   "metadata": {},
   "outputs": [
    {
     "data": {
      "text/plain": [
       "dtype('float64')"
      ]
     },
     "execution_count": 4,
     "metadata": {},
     "output_type": "execute_result"
    }
   ],
   "source": [
    "reviews.price.dtype"
   ]
  },
  {
   "cell_type": "markdown",
   "id": "a43fe5ef",
   "metadata": {},
   "source": [
    "Alternatively, the `dtypes` property returns the `dtype` of every column in the DataFrame:"
   ]
  },
  {
   "cell_type": "code",
   "execution_count": 5,
   "id": "073ffdad",
   "metadata": {},
   "outputs": [
    {
     "data": {
      "text/plain": [
       "id                         int64\n",
       "country                   object\n",
       "description               object\n",
       "designation               object\n",
       "points                     int64\n",
       "price                    float64\n",
       "province                  object\n",
       "region_1                  object\n",
       "region_2                  object\n",
       "taster_name               object\n",
       "taster_twitter_handle     object\n",
       "title                     object\n",
       "variety                   object\n",
       "winery                    object\n",
       "dupe?                    float64\n",
       "dtype: object"
      ]
     },
     "execution_count": 5,
     "metadata": {},
     "output_type": "execute_result"
    }
   ],
   "source": [
    "reviews.dtypes"
   ]
  },
  {
   "cell_type": "markdown",
   "id": "29c21799",
   "metadata": {},
   "source": [
    "Data types tell us something about how pandas is storing the data internally. `float64` means that it's using a 64-bit floating point number; `int64` means a similarly sized integer instead, and so on.\n",
    "\n",
    "One peculiarity to keep in mind (and on display very celarly here) is that columns cosisting entirely of strings do not get their own type; they are instead given the `object` type.\n",
    "\n",
    "It's possible to convert a column of one type into another wherever such a conversion makes sense by using `astype()` function. For example, we may transform the `points` column from its existing `int64` data type into a `float64` data type:"
   ]
  },
  {
   "cell_type": "code",
   "execution_count": 7,
   "id": "ec5a7df1",
   "metadata": {},
   "outputs": [
    {
     "data": {
      "text/plain": [
       "0         85.0\n",
       "1         87.0\n",
       "2         86.0\n",
       "3         86.0\n",
       "4         87.0\n",
       "          ... \n",
       "119983    90.0\n",
       "119984    88.0\n",
       "119985    90.0\n",
       "119986    87.0\n",
       "119987    90.0\n",
       "Name: points, Length: 119988, dtype: float64"
      ]
     },
     "execution_count": 7,
     "metadata": {},
     "output_type": "execute_result"
    }
   ],
   "source": [
    "reviews.points.astype('float64')"
   ]
  },
  {
   "cell_type": "markdown",
   "id": "9c2bf666",
   "metadata": {},
   "source": [
    "A DataFrame or Series ***index*** has its own `dtype`, too:"
   ]
  },
  {
   "cell_type": "code",
   "execution_count": 8,
   "id": "d74abc5f",
   "metadata": {},
   "outputs": [
    {
     "data": {
      "text/plain": [
       "dtype('int64')"
      ]
     },
     "execution_count": 8,
     "metadata": {},
     "output_type": "execute_result"
    }
   ],
   "source": [
    "reviews.index.dtype"
   ]
  },
  {
   "cell_type": "markdown",
   "id": "0251cf37",
   "metadata": {},
   "source": [
    "Pandas also supports more exotic data types, such as categorical data and timeseries data. Because these data types are more rarely used, we will omit them until a much later section of this tuturial."
   ]
  },
  {
   "cell_type": "markdown",
   "id": "74430ddf",
   "metadata": {},
   "source": [
    "### Missing Data\n",
    "\n",
    "Entries missing values are given the value `NaN`, short for **\"Not a Number\"**. For technical reasons these `NaN` values are always of the `float64` dtype.\n",
    "\n",
    "Pandas provides some methods specific to missing data. To select `NaN` entries you can use `pd.isnull()` (or its companion `pd.notnull()`). This is meant to be used thusly:"
   ]
  },
  {
   "cell_type": "code",
   "execution_count": null,
   "id": "b79ebea9",
   "metadata": {},
   "outputs": [
    {
     "data": {
      "text/html": [
       "<div>\n",
       "<style scoped>\n",
       "    .dataframe tbody tr th:only-of-type {\n",
       "        vertical-align: middle;\n",
       "    }\n",
       "\n",
       "    .dataframe tbody tr th {\n",
       "        vertical-align: top;\n",
       "    }\n",
       "\n",
       "    .dataframe thead th {\n",
       "        text-align: right;\n",
       "    }\n",
       "</style>\n",
       "<table border=\"1\" class=\"dataframe\">\n",
       "  <thead>\n",
       "    <tr style=\"text-align: right;\">\n",
       "      <th></th>\n",
       "      <th>id</th>\n",
       "      <th>country</th>\n",
       "      <th>description</th>\n",
       "      <th>designation</th>\n",
       "      <th>points</th>\n",
       "      <th>price</th>\n",
       "      <th>province</th>\n",
       "      <th>region_1</th>\n",
       "      <th>region_2</th>\n",
       "      <th>taster_name</th>\n",
       "      <th>taster_twitter_handle</th>\n",
       "      <th>title</th>\n",
       "      <th>variety</th>\n",
       "      <th>winery</th>\n",
       "      <th>dupe?</th>\n",
       "    </tr>\n",
       "  </thead>\n",
       "  <tbody>\n",
       "    <tr>\n",
       "      <th>1938</th>\n",
       "      <td>129590</td>\n",
       "      <td>NaN</td>\n",
       "      <td>A blend of 60% Syrah, 30% Cabernet Sauvignon a...</td>\n",
       "      <td>Shah</td>\n",
       "      <td>90</td>\n",
       "      <td>30.0</td>\n",
       "      <td>NaN</td>\n",
       "      <td>NaN</td>\n",
       "      <td>NaN</td>\n",
       "      <td>Mike DeSimone</td>\n",
       "      <td>@worldwineguys</td>\n",
       "      <td>Büyülübağ 2012 Shah Red</td>\n",
       "      <td>Red Blend</td>\n",
       "      <td>Büyülübağ</td>\n",
       "      <td>NaN</td>\n",
       "    </tr>\n",
       "    <tr>\n",
       "      <th>2088</th>\n",
       "      <td>11150</td>\n",
       "      <td>NaN</td>\n",
       "      <td>A blend of 85% Melnik, 10% Grenache Noir and 5...</td>\n",
       "      <td>NaN</td>\n",
       "      <td>89</td>\n",
       "      <td>20.0</td>\n",
       "      <td>NaN</td>\n",
       "      <td>NaN</td>\n",
       "      <td>NaN</td>\n",
       "      <td>Jeff Jenssen</td>\n",
       "      <td>@worldwineguys</td>\n",
       "      <td>Orbelus 2013 Melnik</td>\n",
       "      <td>Melnik</td>\n",
       "      <td>Orbelus</td>\n",
       "      <td>NaN</td>\n",
       "    </tr>\n",
       "    <tr>\n",
       "      <th>3857</th>\n",
       "      <td>46352</td>\n",
       "      <td>NaN</td>\n",
       "      <td>A dark color and rich, jammy, baked aromas of ...</td>\n",
       "      <td>Catalina</td>\n",
       "      <td>91</td>\n",
       "      <td>50.0</td>\n",
       "      <td>NaN</td>\n",
       "      <td>NaN</td>\n",
       "      <td>NaN</td>\n",
       "      <td>Michael Schachner</td>\n",
       "      <td>@wineschach</td>\n",
       "      <td>Santa Ema 2014 Catalina Red</td>\n",
       "      <td>Red Blend</td>\n",
       "      <td>Santa Ema</td>\n",
       "      <td>NaN</td>\n",
       "    </tr>\n",
       "    <tr>\n",
       "      <th>6779</th>\n",
       "      <td>105167</td>\n",
       "      <td>NaN</td>\n",
       "      <td>A lively whiff of white blossom, Muscat grapes...</td>\n",
       "      <td>Steirische Klassik</td>\n",
       "      <td>92</td>\n",
       "      <td>21.0</td>\n",
       "      <td>NaN</td>\n",
       "      <td>NaN</td>\n",
       "      <td>NaN</td>\n",
       "      <td>Anne Krebiehl MW</td>\n",
       "      <td>@AnneInVino</td>\n",
       "      <td>Neumeister 2016 Steirische Klassik Gelber Musk...</td>\n",
       "      <td>Gelber Muskateller</td>\n",
       "      <td>Neumeister</td>\n",
       "      <td>NaN</td>\n",
       "    </tr>\n",
       "    <tr>\n",
       "      <th>7349</th>\n",
       "      <td>85821</td>\n",
       "      <td>NaN</td>\n",
       "      <td>A neutral nose leads onto an apple-fresh palat...</td>\n",
       "      <td>Steirische Klassik</td>\n",
       "      <td>90</td>\n",
       "      <td>22.0</td>\n",
       "      <td>NaN</td>\n",
       "      <td>NaN</td>\n",
       "      <td>NaN</td>\n",
       "      <td>Anne Krebiehl MW</td>\n",
       "      <td>@AnneInVino</td>\n",
       "      <td>Neumeister 2015 Steirische Klassik Morillon</td>\n",
       "      <td>Morillon</td>\n",
       "      <td>Neumeister</td>\n",
       "      <td>NaN</td>\n",
       "    </tr>\n",
       "  </tbody>\n",
       "</table>\n",
       "</div>"
      ],
      "text/plain": [
       "          id country                                        description  \\\n",
       "1938  129590     NaN  A blend of 60% Syrah, 30% Cabernet Sauvignon a...   \n",
       "2088   11150     NaN  A blend of 85% Melnik, 10% Grenache Noir and 5...   \n",
       "3857   46352     NaN  A dark color and rich, jammy, baked aromas of ...   \n",
       "6779  105167     NaN  A lively whiff of white blossom, Muscat grapes...   \n",
       "7349   85821     NaN  A neutral nose leads onto an apple-fresh palat...   \n",
       "\n",
       "             designation  points  price province region_1 region_2  \\\n",
       "1938                Shah      90   30.0      NaN      NaN      NaN   \n",
       "2088                 NaN      89   20.0      NaN      NaN      NaN   \n",
       "3857            Catalina      91   50.0      NaN      NaN      NaN   \n",
       "6779  Steirische Klassik      92   21.0      NaN      NaN      NaN   \n",
       "7349  Steirische Klassik      90   22.0      NaN      NaN      NaN   \n",
       "\n",
       "            taster_name taster_twitter_handle  \\\n",
       "1938      Mike DeSimone        @worldwineguys   \n",
       "2088       Jeff Jenssen        @worldwineguys   \n",
       "3857  Michael Schachner           @wineschach   \n",
       "6779   Anne Krebiehl MW           @AnneInVino   \n",
       "7349   Anne Krebiehl MW           @AnneInVino   \n",
       "\n",
       "                                                  title             variety  \\\n",
       "1938                            Büyülübağ 2012 Shah Red           Red Blend   \n",
       "2088                                Orbelus 2013 Melnik              Melnik   \n",
       "3857                        Santa Ema 2014 Catalina Red           Red Blend   \n",
       "6779  Neumeister 2016 Steirische Klassik Gelber Musk...  Gelber Muskateller   \n",
       "7349        Neumeister 2015 Steirische Klassik Morillon            Morillon   \n",
       "\n",
       "          winery  dupe?  \n",
       "1938   Büyülübağ    NaN  \n",
       "2088     Orbelus    NaN  \n",
       "3857   Santa Ema    NaN  \n",
       "6779  Neumeister    NaN  \n",
       "7349  Neumeister    NaN  "
      ]
     },
     "execution_count": 10,
     "metadata": {},
     "output_type": "execute_result"
    }
   ],
   "source": [
    "# To show the NaN rows\n",
    "reviews[pd.isnull(reviews.country)].head()"
   ]
  },
  {
   "cell_type": "code",
   "execution_count": 12,
   "id": "6abc0a27",
   "metadata": {},
   "outputs": [
    {
     "data": {
      "text/plain": [
       "np.int64(59)"
      ]
     },
     "execution_count": 12,
     "metadata": {},
     "output_type": "execute_result"
    }
   ],
   "source": [
    "reviews.country.isnull().sum()"
   ]
  },
  {
   "cell_type": "markdown",
   "id": "29eb57be",
   "metadata": {},
   "source": [
    "Replacing missing values is a common operation. Pandas provides a really handy method for this problem: `fillna()`. ***fillna()*** provides a few different strategies for mitigating such data. For example, we can simply replace each `NaN` with an `\"Unknown\"`:"
   ]
  },
  {
   "cell_type": "code",
   "execution_count": 13,
   "id": "57dd6b32",
   "metadata": {},
   "outputs": [
    {
     "data": {
      "text/plain": [
       "0                  Unknown\n",
       "1              North Coast\n",
       "2         California Other\n",
       "3                  Unknown\n",
       "4                  Unknown\n",
       "                ...       \n",
       "119983             Unknown\n",
       "119984             Unknown\n",
       "119985             Unknown\n",
       "119986    Sierra Foothills\n",
       "119987             Unknown\n",
       "Name: region_2, Length: 119988, dtype: object"
      ]
     },
     "execution_count": 13,
     "metadata": {},
     "output_type": "execute_result"
    }
   ],
   "source": [
    "reviews.region_2.fillna(\"Unknown\")"
   ]
  },
  {
   "cell_type": "markdown",
   "id": "1073a804",
   "metadata": {},
   "source": [
    "Or we could fill each missing value with the first non-null value that appears sometime after the given record in the database. This is known as the backfill strategy.\n",
    "\n",
    "Alternatively, we may have a non-null value that we would like to replace. For example, suppose that since this dataset was published, reviewer ***Kerin O'Keefe*** has changed her Twitter handke from `@kerinokeefe` to `@kerino`. One way to reflect this in the dataset is using the `replace()` method:"
   ]
  },
  {
   "cell_type": "code",
   "execution_count": 19,
   "id": "110155d3",
   "metadata": {},
   "outputs": [],
   "source": [
    "reviews.taster_twitter_handle.replace('@kerinokeefe', '@kerino', inplace=True)"
   ]
  },
  {
   "cell_type": "code",
   "execution_count": 21,
   "id": "86336f32",
   "metadata": {},
   "outputs": [
    {
     "data": {
      "text/plain": [
       "28        @kerino\n",
       "705       @kerino\n",
       "819       @kerino\n",
       "822       @kerino\n",
       "823       @kerino\n",
       "           ...   \n",
       "119735    @kerino\n",
       "119743    @kerino\n",
       "119773    @kerino\n",
       "119818    @kerino\n",
       "119868    @kerino\n",
       "Name: taster_twitter_handle, Length: 9697, dtype: object"
      ]
     },
     "execution_count": 21,
     "metadata": {},
     "output_type": "execute_result"
    }
   ],
   "source": [
    "reviews.query('taster_twitter_handle == \"@kerino\"')['taster_twitter_handle']"
   ]
  },
  {
   "cell_type": "markdown",
   "id": "f94d4c4c",
   "metadata": {},
   "source": [
    "The `replace()` method is worth mentioning here because it's handy for replacing missing data which is given some kind of sentinel value in the dataset: things like `\"Unknown\"`, `\"Undisclosed\"`, `\"Invalid\"`, and so on."
   ]
  },
  {
   "cell_type": "markdown",
   "id": "d7667760",
   "metadata": {},
   "source": [
    "# Practice - Exercise"
   ]
  },
  {
   "cell_type": "markdown",
   "id": "d0ca4454",
   "metadata": {},
   "source": [
    "### 1. What is the data type of the `points` column in the dataset?"
   ]
  },
  {
   "cell_type": "code",
   "execution_count": 22,
   "id": "10e628ad",
   "metadata": {},
   "outputs": [
    {
     "data": {
      "text/plain": [
       "dtype('int64')"
      ]
     },
     "execution_count": 22,
     "metadata": {},
     "output_type": "execute_result"
    }
   ],
   "source": [
    "reviews.points.dtype"
   ]
  },
  {
   "cell_type": "markdown",
   "id": "202500db",
   "metadata": {},
   "source": [
    "### 2. Create a Series from entries in the points column, but convert the entries to strings. Hint: strings are str in native Python."
   ]
  },
  {
   "cell_type": "code",
   "execution_count": 28,
   "id": "7a56dbfb",
   "metadata": {},
   "outputs": [],
   "source": [
    "points_string = reviews.points.astype(str)"
   ]
  },
  {
   "cell_type": "code",
   "execution_count": 29,
   "id": "4c54893e",
   "metadata": {},
   "outputs": [
    {
     "data": {
      "text/plain": [
       "dtype('O')"
      ]
     },
     "execution_count": 29,
     "metadata": {},
     "output_type": "execute_result"
    }
   ],
   "source": [
    "points_string.dtype"
   ]
  },
  {
   "cell_type": "markdown",
   "id": "3ebf5ed0",
   "metadata": {},
   "source": [
    "### 3. Sometimes the price column is null. How many reviews in the dataset are missing a price?"
   ]
  },
  {
   "cell_type": "code",
   "execution_count": 31,
   "id": "7b35dc3d",
   "metadata": {},
   "outputs": [
    {
     "data": {
      "text/plain": [
       "np.int64(8395)"
      ]
     },
     "execution_count": 31,
     "metadata": {},
     "output_type": "execute_result"
    }
   ],
   "source": [
    "reviews.price.isnull().sum()"
   ]
  },
  {
   "attachments": {
    "image.png": {
     "image/png": "[encoded data removed]"
    }
   },
   "cell_type": "markdown",
   "id": "976d9710",
   "metadata": {},
   "source": [
    "### 4. What are the most common wine-producing regions? Create a Series counting the number of times each value occurs in the region_1 field. This field is often missing data, so replace missing values with Unknown. Sort in descending order. Your output should look something like this:\n",
    "\n",
    "![image.png](attachment:image.png)"
   ]
  },
  {
   "cell_type": "code",
   "execution_count": 36,
   "id": "42ec9137",
   "metadata": {},
   "outputs": [
    {
     "data": {
      "text/plain": [
       "np.int64(19560)"
      ]
     },
     "execution_count": 36,
     "metadata": {},
     "output_type": "execute_result"
    }
   ],
   "source": [
    "reviews.region_1.isna().sum()"
   ]
  },
  {
   "cell_type": "code",
   "execution_count": 51,
   "id": "cdc623b4",
   "metadata": {},
   "outputs": [],
   "source": [
    "reviews.region_1.fillna('Unknown', inplace=True)"
   ]
  },
  {
   "cell_type": "code",
   "execution_count": 52,
   "id": "5154b5a5",
   "metadata": {},
   "outputs": [],
   "source": [
    "reviews_per_region = reviews.groupby('region_1')['region_1'].count().sort_values(ascending=False)\n"
   ]
  },
  {
   "cell_type": "code",
   "execution_count": 53,
   "id": "394e3d70",
   "metadata": {},
   "outputs": [
    {
     "data": {
      "text/plain": [
       "region_1\n",
       "Unknown                                              19560\n",
       "Napa Valley                                           4174\n",
       "Columbia Valley (WA)                                  3795\n",
       "Russian River Valley                                  2862\n",
       "California                                            2468\n",
       "                                                     ...  \n",
       "Custoza Superiore                                        1\n",
       "Vino de Calidad de Tierras de León                       1\n",
       "Altos de Mendoza                                         1\n",
       "Vino de la Tierra Contraviesa Alpujarra                  1\n",
       "Vino de la Tierra Ribera del Gállego-Cinco Villas        1\n",
       "Name: region_1, Length: 1230, dtype: int64"
      ]
     },
     "execution_count": 53,
     "metadata": {},
     "output_type": "execute_result"
    }
   ],
   "source": [
    "reviews_per_region"
   ]
  },
  {
   "cell_type": "code",
   "execution_count": null,
   "id": "e622a3cd",
   "metadata": {},
   "outputs": [],
   "source": []
  }
 ],
 "metadata": {
  "kernelspec": {
   "display_name": ".venv",
   "language": "python",
   "name": "python3"
  },
  "language_info": {
   "codemirror_mode": {
    "name": "ipython",
    "version": 3
   },
   "file_extension": ".py",
   "mimetype": "text/x-python",
   "name": "python",
   "nbconvert_exporter": "python",
   "pygments_lexer": "ipython3",
   "version": "3.12.3"
  }
 },
 "nbformat": 4,
 "nbformat_minor": 5
}
